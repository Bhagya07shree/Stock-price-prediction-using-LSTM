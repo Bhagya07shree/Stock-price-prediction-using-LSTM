{
 "cells": [
  {
   "cell_type": "markdown",
   "id": "256ac0e8-43c1-45f2-96b7-356c22c2343e",
   "metadata": {},
   "source": [
    "# **Project Title : Stock price prediction using LSTM**"
   ]
  },
  {
   "cell_type": "markdown",
   "id": "bbf745e5-cfa7-48f7-a554-b2f230755bb0",
   "metadata": {},
   "source": [
    "### **Objective:**\n",
    "**To predict future stock prices using historical data with the help of an LSTM-based neural network model.**"
   ]
  },
  {
   "cell_type": "markdown",
   "id": "72b5d322-7ddc-4f25-9680-202af899f58f",
   "metadata": {},
   "source": [
    "##### **Stock price prediction involves forecasting the future value of a company’s stock based on historical prices and trends. The goal is to make informed decisions about buying or selling stocks.**\n"
   ]
  },
  {
   "cell_type": "code",
   "execution_count": 1,
   "id": "9fb869da-79c6-4a95-9766-6ca0e9debb50",
   "metadata": {},
   "outputs": [],
   "source": [
    "import pandas as pd\n",
    "import numpy as np"
   ]
  },
  {
   "cell_type": "code",
   "execution_count": 2,
   "id": "642b9778-02aa-405e-ad19-fa1a87935c90",
   "metadata": {},
   "outputs": [
    {
     "data": {
      "text/html": [
       "<div>\n",
       "<style scoped>\n",
       "    .dataframe tbody tr th:only-of-type {\n",
       "        vertical-align: middle;\n",
       "    }\n",
       "\n",
       "    .dataframe tbody tr th {\n",
       "        vertical-align: top;\n",
       "    }\n",
       "\n",
       "    .dataframe thead th {\n",
       "        text-align: right;\n",
       "    }\n",
       "</style>\n",
       "<table border=\"1\" class=\"dataframe\">\n",
       "  <thead>\n",
       "    <tr style=\"text-align: right;\">\n",
       "      <th></th>\n",
       "      <th>Date</th>\n",
       "      <th>Open</th>\n",
       "      <th>High</th>\n",
       "      <th>Low</th>\n",
       "      <th>Last</th>\n",
       "      <th>Close</th>\n",
       "      <th>Total Trade Quantity</th>\n",
       "      <th>Turnover (Lacs)</th>\n",
       "    </tr>\n",
       "  </thead>\n",
       "  <tbody>\n",
       "    <tr>\n",
       "      <th>0</th>\n",
       "      <td>2018-10-08</td>\n",
       "      <td>208.00</td>\n",
       "      <td>222.25</td>\n",
       "      <td>206.85</td>\n",
       "      <td>216.00</td>\n",
       "      <td>215.15</td>\n",
       "      <td>4642146.0</td>\n",
       "      <td>10062.83</td>\n",
       "    </tr>\n",
       "    <tr>\n",
       "      <th>1</th>\n",
       "      <td>2018-10-05</td>\n",
       "      <td>217.00</td>\n",
       "      <td>218.60</td>\n",
       "      <td>205.90</td>\n",
       "      <td>210.25</td>\n",
       "      <td>209.20</td>\n",
       "      <td>3519515.0</td>\n",
       "      <td>7407.06</td>\n",
       "    </tr>\n",
       "    <tr>\n",
       "      <th>2</th>\n",
       "      <td>2018-10-04</td>\n",
       "      <td>223.50</td>\n",
       "      <td>227.80</td>\n",
       "      <td>216.15</td>\n",
       "      <td>217.25</td>\n",
       "      <td>218.20</td>\n",
       "      <td>1728786.0</td>\n",
       "      <td>3815.79</td>\n",
       "    </tr>\n",
       "    <tr>\n",
       "      <th>3</th>\n",
       "      <td>2018-10-03</td>\n",
       "      <td>230.00</td>\n",
       "      <td>237.50</td>\n",
       "      <td>225.75</td>\n",
       "      <td>226.45</td>\n",
       "      <td>227.60</td>\n",
       "      <td>1708590.0</td>\n",
       "      <td>3960.27</td>\n",
       "    </tr>\n",
       "    <tr>\n",
       "      <th>4</th>\n",
       "      <td>2018-10-01</td>\n",
       "      <td>234.55</td>\n",
       "      <td>234.60</td>\n",
       "      <td>221.05</td>\n",
       "      <td>230.30</td>\n",
       "      <td>230.90</td>\n",
       "      <td>1534749.0</td>\n",
       "      <td>3486.05</td>\n",
       "    </tr>\n",
       "  </tbody>\n",
       "</table>\n",
       "</div>"
      ],
      "text/plain": [
       "         Date    Open    High     Low    Last   Close  Total Trade Quantity  \\\n",
       "0  2018-10-08  208.00  222.25  206.85  216.00  215.15             4642146.0   \n",
       "1  2018-10-05  217.00  218.60  205.90  210.25  209.20             3519515.0   \n",
       "2  2018-10-04  223.50  227.80  216.15  217.25  218.20             1728786.0   \n",
       "3  2018-10-03  230.00  237.50  225.75  226.45  227.60             1708590.0   \n",
       "4  2018-10-01  234.55  234.60  221.05  230.30  230.90             1534749.0   \n",
       "\n",
       "   Turnover (Lacs)  \n",
       "0         10062.83  \n",
       "1          7407.06  \n",
       "2          3815.79  \n",
       "3          3960.27  \n",
       "4          3486.05  "
      ]
     },
     "execution_count": 2,
     "metadata": {},
     "output_type": "execute_result"
    }
   ],
   "source": [
    "# Load Data\n",
    "df = pd.read_csv(r\"C:\\Users\\bhagyashree.s\\Desktop\\Stock price prediction using LSTM\\NSE-Tata-Global-Beverages-Limited.csv\")\n",
    "df.head()"
   ]
  },
  {
   "cell_type": "markdown",
   "id": "11845a72-b7d0-4344-8716-0a72326d04cb",
   "metadata": {},
   "source": [
    "**Date – The trading date**\n",
    "\n",
    "**Open – Opening price of the stock on that day**\n",
    "\n",
    "**High – Highest price during the day**\n",
    "\n",
    "**Low – Lowest price during the day**\n",
    "\n",
    "**Close – Closing price of the stock**\n",
    "\n",
    "**Volume – Number of shares traded**\n",
    "\n"
   ]
  },
  {
   "cell_type": "code",
   "execution_count": 3,
   "id": "7390c21a-c3d4-4da0-acca-bc064efd73f7",
   "metadata": {},
   "outputs": [
    {
     "data": {
      "text/plain": [
       "(1235, 8)"
      ]
     },
     "execution_count": 3,
     "metadata": {},
     "output_type": "execute_result"
    }
   ],
   "source": [
    "df.shape"
   ]
  },
  {
   "cell_type": "code",
   "execution_count": 4,
   "id": "22a31a36-9e56-4dbc-9c5e-34c0b1a87f03",
   "metadata": {},
   "outputs": [
    {
     "data": {
      "text/plain": [
       "Date                    0\n",
       "Open                    0\n",
       "High                    0\n",
       "Low                     0\n",
       "Last                    0\n",
       "Close                   0\n",
       "Total Trade Quantity    0\n",
       "Turnover (Lacs)         0\n",
       "dtype: int64"
      ]
     },
     "execution_count": 4,
     "metadata": {},
     "output_type": "execute_result"
    }
   ],
   "source": [
    "df.isnull().sum()"
   ]
  },
  {
   "cell_type": "code",
   "execution_count": 5,
   "id": "11d9a74e-dc33-437a-9300-dcbbfecaf2cd",
   "metadata": {},
   "outputs": [
    {
     "data": {
      "text/html": [
       "<div>\n",
       "<style scoped>\n",
       "    .dataframe tbody tr th:only-of-type {\n",
       "        vertical-align: middle;\n",
       "    }\n",
       "\n",
       "    .dataframe tbody tr th {\n",
       "        vertical-align: top;\n",
       "    }\n",
       "\n",
       "    .dataframe thead th {\n",
       "        text-align: right;\n",
       "    }\n",
       "</style>\n",
       "<table border=\"1\" class=\"dataframe\">\n",
       "  <thead>\n",
       "    <tr style=\"text-align: right;\">\n",
       "      <th></th>\n",
       "      <th>Open</th>\n",
       "      <th>High</th>\n",
       "      <th>Low</th>\n",
       "      <th>Last</th>\n",
       "      <th>Close</th>\n",
       "      <th>Total Trade Quantity</th>\n",
       "      <th>Turnover (Lacs)</th>\n",
       "    </tr>\n",
       "  </thead>\n",
       "  <tbody>\n",
       "    <tr>\n",
       "      <th>count</th>\n",
       "      <td>1235.000000</td>\n",
       "      <td>1235.000000</td>\n",
       "      <td>1235.000000</td>\n",
       "      <td>1235.000000</td>\n",
       "      <td>1235.000000</td>\n",
       "      <td>1.235000e+03</td>\n",
       "      <td>1235.000000</td>\n",
       "    </tr>\n",
       "    <tr>\n",
       "      <th>mean</th>\n",
       "      <td>168.954858</td>\n",
       "      <td>171.429069</td>\n",
       "      <td>166.402308</td>\n",
       "      <td>168.736356</td>\n",
       "      <td>168.731053</td>\n",
       "      <td>2.604151e+06</td>\n",
       "      <td>4843.166502</td>\n",
       "    </tr>\n",
       "    <tr>\n",
       "      <th>std</th>\n",
       "      <td>51.499145</td>\n",
       "      <td>52.436761</td>\n",
       "      <td>50.542919</td>\n",
       "      <td>51.587384</td>\n",
       "      <td>51.544928</td>\n",
       "      <td>2.277028e+06</td>\n",
       "      <td>5348.919832</td>\n",
       "    </tr>\n",
       "    <tr>\n",
       "      <th>min</th>\n",
       "      <td>103.000000</td>\n",
       "      <td>104.600000</td>\n",
       "      <td>100.000000</td>\n",
       "      <td>102.600000</td>\n",
       "      <td>102.650000</td>\n",
       "      <td>1.001800e+05</td>\n",
       "      <td>128.040000</td>\n",
       "    </tr>\n",
       "    <tr>\n",
       "      <th>25%</th>\n",
       "      <td>137.550000</td>\n",
       "      <td>138.925000</td>\n",
       "      <td>135.250000</td>\n",
       "      <td>137.175000</td>\n",
       "      <td>137.225000</td>\n",
       "      <td>1.284482e+06</td>\n",
       "      <td>1801.035000</td>\n",
       "    </tr>\n",
       "    <tr>\n",
       "      <th>50%</th>\n",
       "      <td>151.500000</td>\n",
       "      <td>153.250000</td>\n",
       "      <td>149.500000</td>\n",
       "      <td>151.200000</td>\n",
       "      <td>151.100000</td>\n",
       "      <td>1.964885e+06</td>\n",
       "      <td>3068.510000</td>\n",
       "    </tr>\n",
       "    <tr>\n",
       "      <th>75%</th>\n",
       "      <td>169.000000</td>\n",
       "      <td>172.325000</td>\n",
       "      <td>166.700000</td>\n",
       "      <td>169.100000</td>\n",
       "      <td>169.500000</td>\n",
       "      <td>3.095788e+06</td>\n",
       "      <td>5852.600000</td>\n",
       "    </tr>\n",
       "    <tr>\n",
       "      <th>max</th>\n",
       "      <td>327.700000</td>\n",
       "      <td>328.750000</td>\n",
       "      <td>321.650000</td>\n",
       "      <td>325.950000</td>\n",
       "      <td>325.750000</td>\n",
       "      <td>2.919102e+07</td>\n",
       "      <td>55755.080000</td>\n",
       "    </tr>\n",
       "  </tbody>\n",
       "</table>\n",
       "</div>"
      ],
      "text/plain": [
       "              Open         High          Low         Last        Close  \\\n",
       "count  1235.000000  1235.000000  1235.000000  1235.000000  1235.000000   \n",
       "mean    168.954858   171.429069   166.402308   168.736356   168.731053   \n",
       "std      51.499145    52.436761    50.542919    51.587384    51.544928   \n",
       "min     103.000000   104.600000   100.000000   102.600000   102.650000   \n",
       "25%     137.550000   138.925000   135.250000   137.175000   137.225000   \n",
       "50%     151.500000   153.250000   149.500000   151.200000   151.100000   \n",
       "75%     169.000000   172.325000   166.700000   169.100000   169.500000   \n",
       "max     327.700000   328.750000   321.650000   325.950000   325.750000   \n",
       "\n",
       "       Total Trade Quantity  Turnover (Lacs)  \n",
       "count          1.235000e+03      1235.000000  \n",
       "mean           2.604151e+06      4843.166502  \n",
       "std            2.277028e+06      5348.919832  \n",
       "min            1.001800e+05       128.040000  \n",
       "25%            1.284482e+06      1801.035000  \n",
       "50%            1.964885e+06      3068.510000  \n",
       "75%            3.095788e+06      5852.600000  \n",
       "max            2.919102e+07     55755.080000  "
      ]
     },
     "execution_count": 5,
     "metadata": {},
     "output_type": "execute_result"
    }
   ],
   "source": [
    "df.describe()"
   ]
  },
  {
   "cell_type": "markdown",
   "id": "ae145be1-ffc0-45a5-bf1e-2844cde63f66",
   "metadata": {},
   "source": [
    "## **Data Preprocessing**"
   ]
  },
  {
   "cell_type": "code",
   "execution_count": 6,
   "id": "b7d193b0-1c61-4f07-b7c9-9fff811da537",
   "metadata": {},
   "outputs": [],
   "source": [
    "import matplotlib.pyplot as plt\n",
    "%matplotlib inline"
   ]
  },
  {
   "cell_type": "code",
   "execution_count": 7,
   "id": "407abc15-1b0f-4de6-b66a-04a9793b1489",
   "metadata": {},
   "outputs": [
    {
     "data": {
      "text/html": [
       "<div>\n",
       "<style scoped>\n",
       "    .dataframe tbody tr th:only-of-type {\n",
       "        vertical-align: middle;\n",
       "    }\n",
       "\n",
       "    .dataframe tbody tr th {\n",
       "        vertical-align: top;\n",
       "    }\n",
       "\n",
       "    .dataframe thead th {\n",
       "        text-align: right;\n",
       "    }\n",
       "</style>\n",
       "<table border=\"1\" class=\"dataframe\">\n",
       "  <thead>\n",
       "    <tr style=\"text-align: right;\">\n",
       "      <th></th>\n",
       "      <th>Date</th>\n",
       "      <th>Open</th>\n",
       "      <th>High</th>\n",
       "      <th>Low</th>\n",
       "      <th>Last</th>\n",
       "      <th>Close</th>\n",
       "      <th>Total Trade Quantity</th>\n",
       "      <th>Turnover (Lacs)</th>\n",
       "    </tr>\n",
       "  </thead>\n",
       "  <tbody>\n",
       "    <tr>\n",
       "      <th>0</th>\n",
       "      <td>2013-10-08</td>\n",
       "      <td>157.00</td>\n",
       "      <td>157.80</td>\n",
       "      <td>155.20</td>\n",
       "      <td>155.8</td>\n",
       "      <td>155.80</td>\n",
       "      <td>1720413.0</td>\n",
       "      <td>2688.94</td>\n",
       "    </tr>\n",
       "    <tr>\n",
       "      <th>1</th>\n",
       "      <td>2013-10-09</td>\n",
       "      <td>155.70</td>\n",
       "      <td>158.20</td>\n",
       "      <td>154.15</td>\n",
       "      <td>155.3</td>\n",
       "      <td>155.55</td>\n",
       "      <td>2049580.0</td>\n",
       "      <td>3204.49</td>\n",
       "    </tr>\n",
       "    <tr>\n",
       "      <th>2</th>\n",
       "      <td>2013-10-10</td>\n",
       "      <td>156.00</td>\n",
       "      <td>160.80</td>\n",
       "      <td>155.85</td>\n",
       "      <td>160.3</td>\n",
       "      <td>160.15</td>\n",
       "      <td>3124853.0</td>\n",
       "      <td>4978.80</td>\n",
       "    </tr>\n",
       "    <tr>\n",
       "      <th>3</th>\n",
       "      <td>2013-10-11</td>\n",
       "      <td>161.15</td>\n",
       "      <td>163.45</td>\n",
       "      <td>159.00</td>\n",
       "      <td>159.8</td>\n",
       "      <td>160.05</td>\n",
       "      <td>1880046.0</td>\n",
       "      <td>3030.76</td>\n",
       "    </tr>\n",
       "    <tr>\n",
       "      <th>4</th>\n",
       "      <td>2013-10-14</td>\n",
       "      <td>160.85</td>\n",
       "      <td>161.45</td>\n",
       "      <td>157.70</td>\n",
       "      <td>159.3</td>\n",
       "      <td>159.45</td>\n",
       "      <td>1281419.0</td>\n",
       "      <td>2039.09</td>\n",
       "    </tr>\n",
       "  </tbody>\n",
       "</table>\n",
       "</div>"
      ],
      "text/plain": [
       "        Date    Open    High     Low   Last   Close  Total Trade Quantity  \\\n",
       "0 2013-10-08  157.00  157.80  155.20  155.8  155.80             1720413.0   \n",
       "1 2013-10-09  155.70  158.20  154.15  155.3  155.55             2049580.0   \n",
       "2 2013-10-10  156.00  160.80  155.85  160.3  160.15             3124853.0   \n",
       "3 2013-10-11  161.15  163.45  159.00  159.8  160.05             1880046.0   \n",
       "4 2013-10-14  160.85  161.45  157.70  159.3  159.45             1281419.0   \n",
       "\n",
       "   Turnover (Lacs)  \n",
       "0          2688.94  \n",
       "1          3204.49  \n",
       "2          4978.80  \n",
       "3          3030.76  \n",
       "4          2039.09  "
      ]
     },
     "execution_count": 7,
     "metadata": {},
     "output_type": "execute_result"
    }
   ],
   "source": [
    "df['Date'] = pd.to_datetime(df['Date'])\n",
    "df = df.sort_values(by='Date', ascending=True).reset_index(drop=True)\n",
    "df.head()"
   ]
  },
  {
   "cell_type": "code",
   "execution_count": 8,
   "id": "ea0f711a-9545-495e-bdff-00f6404a302e",
   "metadata": {},
   "outputs": [],
   "source": [
    "# Saving dates separately for future use\n",
    "#dates = df['Date']"
   ]
  },
  {
   "cell_type": "code",
   "execution_count": 9,
   "id": "acef7e9f-16ed-447d-898f-7e9d54deb949",
   "metadata": {},
   "outputs": [],
   "source": [
    "# Convert 'Date' column to datetime and set as index\n",
    "df[\"Date\"]=pd.to_datetime(df.Date,format=\"%Y-%m-%d\")\n",
    "df.index=df['Date']\n"
   ]
  },
  {
   "cell_type": "code",
   "execution_count": 10,
   "id": "12bbc618-d0a9-4de6-a6ff-ca9b24df0915",
   "metadata": {},
   "outputs": [],
   "source": [
    "# Now drop the 'Date' column (since it's already used as index)\n",
    "#df.drop(columns=[\"Date\"], inplace=True)"
   ]
  },
  {
   "cell_type": "code",
   "execution_count": 11,
   "id": "a3369f1e-be1e-4897-88e0-04e890d30c4e",
   "metadata": {},
   "outputs": [],
   "source": [
    "#df.head()"
   ]
  },
  {
   "cell_type": "code",
   "execution_count": 12,
   "id": "415f771e-cb4e-4cb9-b799-0ce567a4a6c0",
   "metadata": {},
   "outputs": [
    {
     "data": {
      "image/png": "[encoded data removed]",
      "text/plain": [
       "<Figure size 1600x1000 with 1 Axes>"
      ]
     },
     "metadata": {},
     "output_type": "display_data"
    }
   ],
   "source": [
    "plt.figure(figsize=(16,10))\n",
    "plt.plot(df[\"Close\"],label='Close Price history')\n",
    "plt.title(\"Tata Stock Closing Price History\")\n",
    "plt.xlabel(\"Date\")\n",
    "plt.ylabel(\"Close Price (INR)\")\n",
    "plt.legend()\n",
    "plt.show()"
   ]
  },
  {
   "cell_type": "markdown",
   "id": "abad9158-7a46-46e9-ae5f-83f3ba3ac0f8",
   "metadata": {},
   "source": [
    "#### **Sort the dataset on date time and filter  “Close” columns:**"
   ]
  },
  {
   "cell_type": "code",
   "execution_count": 13,
   "id": "ff363150-cdcf-40a9-b1da-ef051f2b1c1f",
   "metadata": {},
   "outputs": [],
   "source": [
    "data=df.sort_index(ascending=True,axis=0)\n",
    "new_dataset=pd.DataFrame(index=range(0,len(df)),columns=['Date','Close'])"
   ]
  },
  {
   "cell_type": "code",
   "execution_count": 14,
   "id": "845ce078-27a1-47c4-bdde-10ce8fb9b893",
   "metadata": {},
   "outputs": [
    {
     "name": "stderr",
     "output_type": "stream",
     "text": [
      "C:\\Users\\bhagyashree.s\\AppData\\Local\\Temp\\ipykernel_11284\\628050910.py:2: FutureWarning: Series.__getitem__ treating keys as positions is deprecated. In a future version, integer keys will always be treated as labels (consistent with DataFrame behavior). To access a value by position, use `ser.iloc[pos]`\n",
      "  new_dataset[\"Date\"][i]=data['Date'][i]\n",
      "C:\\Users\\bhagyashree.s\\AppData\\Local\\Temp\\ipykernel_11284\\628050910.py:2: FutureWarning: ChainedAssignmentError: behaviour will change in pandas 3.0!\n",
      "You are setting values through chained assignment. Currently this works in certain cases, but when using Copy-on-Write (which will become the default behaviour in pandas 3.0) this will never work to update the original DataFrame or Series, because the intermediate object on which we are setting values will behave as a copy.\n",
      "A typical example is when you are setting values in a column of a DataFrame, like:\n",
      "\n",
      "df[\"col\"][row_indexer] = value\n",
      "\n",
      "Use `df.loc[row_indexer, \"col\"] = values` instead, to perform the assignment in a single step and ensure this keeps updating the original `df`.\n",
      "\n",
      "See the caveats in the documentation: https://pandas.pydata.org/pandas-docs/stable/user_guide/indexing.html#returning-a-view-versus-a-copy\n",
      "\n",
      "  new_dataset[\"Date\"][i]=data['Date'][i]\n",
      "C:\\Users\\bhagyashree.s\\AppData\\Local\\Temp\\ipykernel_11284\\628050910.py:3: FutureWarning: Series.__getitem__ treating keys as positions is deprecated. In a future version, integer keys will always be treated as labels (consistent with DataFrame behavior). To access a value by position, use `ser.iloc[pos]`\n",
      "  new_dataset[\"Close\"][i]=data[\"Close\"][i]\n",
      "C:\\Users\\bhagyashree.s\\AppData\\Local\\Temp\\ipykernel_11284\\628050910.py:3: FutureWarning: ChainedAssignmentError: behaviour will change in pandas 3.0!\n",
      "You are setting values through chained assignment. Currently this works in certain cases, but when using Copy-on-Write (which will become the default behaviour in pandas 3.0) this will never work to update the original DataFrame or Series, because the intermediate object on which we are setting values will behave as a copy.\n",
      "A typical example is when you are setting values in a column of a DataFrame, like:\n",
      "\n",
      "df[\"col\"][row_indexer] = value\n",
      "\n",
      "Use `df.loc[row_indexer, \"col\"] = values` instead, to perform the assignment in a single step and ensure this keeps updating the original `df`.\n",
      "\n",
      "See the caveats in the documentation: https://pandas.pydata.org/pandas-docs/stable/user_guide/indexing.html#returning-a-view-versus-a-copy\n",
      "\n",
      "  new_dataset[\"Close\"][i]=data[\"Close\"][i]\n"
     ]
    }
   ],
   "source": [
    "for i in range(0,len(data)):\n",
    "    new_dataset[\"Date\"][i]=data['Date'][i]\n",
    "    new_dataset[\"Close\"][i]=data[\"Close\"][i]"
   ]
  },
  {
   "cell_type": "markdown",
   "id": "d797640b-5afc-4490-8ec6-cf6f1108b9db",
   "metadata": {},
   "source": [
    "## **Normalize the new filtered dataset**"
   ]
  },
  {
   "cell_type": "code",
   "execution_count": 15,
   "id": "04cad75a-5f80-4b08-99aa-6dcbd1f853af",
   "metadata": {},
   "outputs": [],
   "source": [
    "from sklearn.preprocessing import MinMaxScaler"
   ]
  },
  {
   "cell_type": "code",
   "execution_count": 16,
   "id": "9352e2e0-cf0f-49e1-ad79-ec632e82ee81",
   "metadata": {},
   "outputs": [],
   "source": [
    "# Create MinMaxScaler object to scale data between 0 and 1\n",
    "scaler=MinMaxScaler(feature_range=(0,1))\n",
    "final_dataset=new_dataset.values\n"
   ]
  },
  {
   "cell_type": "code",
   "execution_count": 17,
   "id": "eef243fa-f922-42a9-b7b7-9346ab781091",
   "metadata": {},
   "outputs": [],
   "source": [
    "# Step 3: Split data into training and validation sets\n",
    "\n",
    "train_data=final_dataset[0:987,:] # rows 0 to 987 (~2013-10 to somewhere 2017)\n",
    "valid_data=final_dataset[987:,:] # rows 988 to end (~2017-10 to 2018-10)\n"
   ]
  },
  {
   "cell_type": "code",
   "execution_count": 18,
   "id": "187a0def-509e-49e6-b936-1945e54cb44e",
   "metadata": {},
   "outputs": [
    {
     "name": "stderr",
     "output_type": "stream",
     "text": [
      "C:\\Users\\bhagyashree.s\\anaconda3\\Lib\\site-packages\\pandas\\core\\indexes\\base.py:7631: FutureWarning: Dtype inference on a pandas object (Series, Index, ExtensionArray) is deprecated. The Index constructor will keep the original dtype in the future. Call `infer_objects` on the result to get the old behavior.\n",
      "  return Index(index_like, name=name, copy=copy)\n"
     ]
    }
   ],
   "source": [
    "new_dataset.index=new_dataset.Date\n",
    "new_dataset.drop(\"Date\",axis=1,inplace=True)"
   ]
  },
  {
   "cell_type": "code",
   "execution_count": 19,
   "id": "7aba4818-167a-41ea-9708-009956737112",
   "metadata": {},
   "outputs": [],
   "source": [
    "# Keep only 'Close' column for prediction\n",
    "final_dataset = new_dataset[[\"Close\"]]\n",
    "\n",
    "# Now scale the 'Close' column (all values are numeric)\n",
    "scaled_data = scaler.fit_transform(final_dataset)\n"
   ]
  },
  {
   "cell_type": "markdown",
   "id": "58a20e1d-0c60-47a4-8ec9-eeb22a9f012e",
   "metadata": {},
   "source": [
    "## **Preparing sequences**"
   ]
  },
  {
   "cell_type": "code",
   "execution_count": 20,
   "id": "1272f863-c1ea-4302-aefa-6ab4268aef20",
   "metadata": {},
   "outputs": [],
   "source": [
    "x_train_data,y_train_data=[],[]"
   ]
  },
  {
   "cell_type": "markdown",
   "id": "cfcbc372-6552-4286-bc23-67d7133bfbf2",
   "metadata": {},
   "source": [
    "**The previous 60 days closing prices (x_train_data), as input sequence.**\n",
    "\n",
    "**The closing price on the current day (y_train_data), as output/label.**\n",
    "\n"
   ]
  },
  {
   "cell_type": "code",
   "execution_count": 21,
   "id": "23ff1eac-cf52-4a33-9909-6b10702f3269",
   "metadata": {},
   "outputs": [],
   "source": [
    "for i in range(60,len(train_data)):\n",
    "    x_train_data.append(scaled_data[i-60:i,0])\n",
    "    y_train_data.append(scaled_data[i,0])\n",
    "    \n",
    "x_train_data,y_train_data=np.array(x_train_data),np.array(y_train_data)\n",
    "x_train_data=np.reshape(x_train_data,(x_train_data.shape[0],x_train_data.shape[1],1))"
   ]
  },
  {
   "cell_type": "markdown",
   "id": "0b7501bd-2cd9-4dc3-ab1c-f5bf3743c8dd",
   "metadata": {},
   "source": [
    "**i-60:i means:**\n",
    "\n",
    "Take rows starting from index i-60 up to but NOT including i.\n",
    "\n",
    "This results in exactly 60 rows because slicing in Python excludes the end index.\n",
    "\n",
    "**0 means:**\n",
    "\n",
    "Take the first column (which is the Close price) of those rows.\n",
    "\n",
    "**Example : Suppose i = 100.**\n",
    "\n",
    "Then scaled_data[40:100, 0] takes rows 40, 41, ..., 99 (60 rows total), column 0('Close')\n",
    "\n"
   ]
  },
  {
   "cell_type": "markdown",
   "id": "dd3551e9-e848-4d9b-8c04-c047944ca166",
   "metadata": {},
   "source": [
    "| Part                    | Meaning                                                            |\n",
    "| ----------------------- | ------------------------------------------------------------------ |\n",
    "| `x_train_dta.shape[0]` | Number of training samples (how many 60-day sequences you have)    |\n",
    "| `x_train_data.shape[1]` | Number of time steps (in this case, 60 days)                       |\n",
    "| `1`                     | Number of features (we're using only 1 feature: the \"Close\" price) |\n"
   ]
  },
  {
   "cell_type": "markdown",
   "id": "f444a24d-8771-4c66-8309-1424096f8e67",
   "metadata": {},
   "source": [
    "## **Build and train the LSTM model**"
   ]
  },
  {
   "cell_type": "code",
   "execution_count": 22,
   "id": "e4e18b8f-55d4-4fdd-acd3-a70d7e252f3a",
   "metadata": {},
   "outputs": [],
   "source": [
    "from keras.models import Sequential\n",
    "from keras.layers import LSTM,Dropout,Dense\n"
   ]
  },
  {
   "cell_type": "code",
   "execution_count": 23,
   "id": "2432af3c-4baa-4c22-a87d-2a4b2cc33832",
   "metadata": {},
   "outputs": [],
   "source": [
    "model = Sequential()"
   ]
  },
  {
   "cell_type": "code",
   "execution_count": 24,
   "id": "2884fdeb-99ab-4911-b786-20eebff61e8c",
   "metadata": {},
   "outputs": [
    {
     "name": "stderr",
     "output_type": "stream",
     "text": [
      "C:\\Users\\bhagyashree.s\\anaconda3\\Lib\\site-packages\\keras\\src\\layers\\rnn\\rnn.py:200: UserWarning: Do not pass an `input_shape`/`input_dim` argument to a layer. When using Sequential models, prefer using an `Input(shape)` object as the first layer in the model instead.\n",
      "  super().__init__(**kwargs)\n"
     ]
    }
   ],
   "source": [
    "# First LSTM Layer\n",
    "model.add(LSTM(units=50, return_sequences=True, input_shape=(x_train_data.shape[1], 1)))"
   ]
  },
  {
   "cell_type": "code",
   "execution_count": 25,
   "id": "9ba43a69-f9b4-498b-b0a5-c0f6fb9843e7",
   "metadata": {},
   "outputs": [],
   "source": [
    "# Second LSTM Layer\n",
    "model.add(LSTM(units=50))"
   ]
  },
  {
   "cell_type": "code",
   "execution_count": 26,
   "id": "b18f2c4e-ac40-4e33-a44a-e88f219001e5",
   "metadata": {},
   "outputs": [],
   "source": [
    "# Final output layer\n",
    "model.add(Dense(1))"
   ]
  },
  {
   "cell_type": "code",
   "execution_count": 27,
   "id": "01fd6c83-63db-4751-9397-bdd600e8fb0d",
   "metadata": {},
   "outputs": [
    {
     "name": "stderr",
     "output_type": "stream",
     "text": [
      "C:\\Users\\bhagyashree.s\\anaconda3\\Lib\\site-packages\\sklearn\\base.py:493: UserWarning: X does not have valid feature names, but MinMaxScaler was fitted with feature names\n",
      "  warnings.warn(\n"
     ]
    }
   ],
   "source": [
    "inputs_data=new_dataset[len(new_dataset)-len(valid_data)-60:].values\n",
    "inputs_data=inputs_data.reshape(-1,1)\n",
    "inputs_data=scaler.transform(inputs_data)"
   ]
  },
  {
   "cell_type": "code",
   "execution_count": 28,
   "id": "550ff1d0-19fc-49b3-9d9e-b11cd82a7cf3",
   "metadata": {},
   "outputs": [],
   "source": [
    "# Compile\n",
    "model.compile(loss='mean_squared_error', optimizer='adam')"
   ]
  },
  {
   "cell_type": "code",
   "execution_count": 29,
   "id": "d6ce697f-afde-4f9c-8297-d2ae4ed706f5",
   "metadata": {},
   "outputs": [],
   "source": [
    "from keras.callbacks import EarlyStopping\n",
    "\n",
    "early_stop = EarlyStopping(\n",
    "    monitor='loss',       # or 'val_loss' if you use validation\n",
    "    patience=5,           # stop if no improvement in 5 epochs\n",
    "    restore_best_weights=True\n",
    ")\n"
   ]
  },
  {
   "cell_type": "code",
   "execution_count": 32,
   "id": "e55ecfdb-885a-419b-9df0-6206e2dc5fcf",
   "metadata": {},
   "outputs": [
    {
     "name": "stdout",
     "output_type": "stream",
     "text": [
      "Epoch 1/100\n",
      "927/927 - 33s - 35ms/step - loss: 0.0011\n",
      "Epoch 2/100\n",
      "927/927 - 28s - 30ms/step - loss: 4.8994e-04\n",
      "Epoch 3/100\n",
      "927/927 - 28s - 31ms/step - loss: 3.1457e-04\n",
      "Epoch 4/100\n",
      "927/927 - 28s - 31ms/step - loss: 3.0816e-04\n",
      "Epoch 5/100\n",
      "927/927 - 28s - 31ms/step - loss: 2.6021e-04\n",
      "Epoch 6/100\n",
      "927/927 - 28s - 30ms/step - loss: 2.5497e-04\n",
      "Epoch 7/100\n",
      "927/927 - 28s - 30ms/step - loss: 2.6680e-04\n",
      "Epoch 8/100\n",
      "927/927 - 28s - 30ms/step - loss: 2.5027e-04\n",
      "Epoch 9/100\n",
      "927/927 - 28s - 30ms/step - loss: 2.2629e-04\n",
      "Epoch 10/100\n",
      "927/927 - 28s - 30ms/step - loss: 2.3615e-04\n",
      "Epoch 11/100\n",
      "927/927 - 28s - 30ms/step - loss: 2.3210e-04\n",
      "Epoch 12/100\n",
      "927/927 - 29s - 31ms/step - loss: 2.1078e-04\n",
      "Epoch 13/100\n",
      "927/927 - 28s - 30ms/step - loss: 2.1991e-04\n",
      "Epoch 14/100\n",
      "927/927 - 28s - 30ms/step - loss: 2.2475e-04\n",
      "Epoch 15/100\n",
      "927/927 - 27s - 30ms/step - loss: 1.9675e-04\n",
      "Epoch 16/100\n",
      "927/927 - 26s - 28ms/step - loss: 2.0256e-04\n",
      "Epoch 17/100\n",
      "927/927 - 28s - 30ms/step - loss: 2.1464e-04\n",
      "Epoch 18/100\n",
      "927/927 - 28s - 30ms/step - loss: 2.0943e-04\n",
      "Epoch 19/100\n",
      "927/927 - 28s - 30ms/step - loss: 2.1745e-04\n",
      "Epoch 20/100\n",
      "927/927 - 27s - 29ms/step - loss: 2.1127e-04\n"
     ]
    }
   ],
   "source": [
    "# Train with callback\n",
    "history = model.fit(\n",
    "    x_train_data, y_train_data,\n",
    "    epochs=100,\n",
    "    batch_size=1,\n",
    "    verbose=2,\n",
    "    callbacks=[early_stop]\n",
    ")"
   ]
  },
  {
   "cell_type": "code",
   "execution_count": 33,
   "id": "2169f383-3138-4ac5-96df-3d2b5dbd9c77",
   "metadata": {},
   "outputs": [
    {
     "data": {
      "image/png": "[encoded data removed]",
      "text/plain": [
       "<Figure size 640x480 with 1 Axes>"
      ]
     },
     "metadata": {},
     "output_type": "display_data"
    }
   ],
   "source": [
    "plt.plot(history.history['loss'])\n",
    "plt.title('Model Training Loss Over Epochs')\n",
    "plt.xlabel('Epoch')\n",
    "plt.ylabel('Loss')\n",
    "plt.show()\n"
   ]
  },
  {
   "cell_type": "markdown",
   "id": "7ca89c26-c9f2-4831-ab97-277882d704fe",
   "metadata": {},
   "source": [
    "## **Test the LSTM model**"
   ]
  },
  {
   "cell_type": "markdown",
   "id": "960eb825-9cbc-4d76-84cb-8f9d43c33a4a",
   "metadata": {},
   "source": [
    "#### **Preparing input for prediction**"
   ]
  },
  {
   "cell_type": "markdown",
   "id": "58a3dcfb-c590-4973-9a2d-9b11715e1536",
   "metadata": {},
   "source": [
    "#### **Creating test sequences**"
   ]
  },
  {
   "cell_type": "code",
   "execution_count": 43,
   "id": "95c51cde-d573-448a-953d-c7af43ba81a0",
   "metadata": {},
   "outputs": [],
   "source": [
    "X_test = []"
   ]
  },
  {
   "cell_type": "code",
   "execution_count": 44,
   "id": "89a3f399-1963-4ae3-a5e5-4456c52dc1eb",
   "metadata": {},
   "outputs": [
    {
     "name": "stdout",
     "output_type": "stream",
     "text": [
      "\u001b[1m8/8\u001b[0m \u001b[32m━━━━━━━━━━━━━━━━━━━━\u001b[0m\u001b[37m\u001b[0m \u001b[1m0s\u001b[0m 30ms/step\n"
     ]
    }
   ],
   "source": [
    "X_test=[]\n",
    "for i in range(60,inputs_data.shape[0]):\n",
    "    X_test.append(inputs_data[i-60:i,0])\n",
    "X_test=np.array(X_test)\n",
    "\n",
    "X_test=np.reshape(X_test,(X_test.shape[0],X_test.shape[1],1))\n",
    "predicted_closing_price=model.predict(X_test)\n",
    "predicted_closing_price=scaler.inverse_transform(predicted_closing_price)"
   ]
  },
  {
   "cell_type": "code",
   "execution_count": 45,
   "id": "82aba7a6-0eb7-48c6-a3df-aa3c90454f52",
   "metadata": {},
   "outputs": [],
   "source": [
    "# model.save(\"saved_model.h5\")"
   ]
  },
  {
   "cell_type": "markdown",
   "id": "67ce450e-cf15-41d1-b0f3-8dca24fd1665",
   "metadata": {},
   "source": [
    "### **Visualize the predicted stock costs with actual stock costs:**"
   ]
  },
  {
   "cell_type": "code",
   "execution_count": 47,
   "id": "f1e7a265-9827-4b7f-9f06-79e097b7b69e",
   "metadata": {},
   "outputs": [],
   "source": [
    "# Add predictions to valid_data DataFrame\n",
    "valid_data = new_dataset.iloc[987:].copy()  # make sure to slice DataFrame here\n",
    "valid_data['Predictions'] = predicted_closing_price.flatten()\n"
   ]
  },
  {
   "cell_type": "code",
   "execution_count": 50,
   "id": "48ec9135-14f9-4c70-87b3-830d5dfc7567",
   "metadata": {},
   "outputs": [
    {
     "data": {
      "text/plain": [
       "[<matplotlib.lines.Line2D at 0x2e3d184dc70>]"
      ]
     },
     "execution_count": 50,
     "metadata": {},
     "output_type": "execute_result"
    }
   ],
   "source": [
    "# Plot the results\n",
    "plt.figure(figsize=(14, 6))\n",
    "\n",
    "# Plot training data\n",
    "plt.plot(new_dataset.iloc[:987]['Close'], label='Training Data', color='blue')\n",
    "\n",
    "# Plot actual prices (test data)\n",
    "plt.plot(valid_data[\"Close\"], label=\"Actual Price\", color=\"orange\")\n",
    "\n",
    "# Plot predicted prices\n",
    "plt.plot(valid_data[\"Predictions\"], label=\"Predicted Price\", color=\"green\")\n"
   ]
  },
  {
   "cell_type": "code",
   "execution_count": 51,
   "id": "71efb97e-077a-4daf-bdd7-b0a47d903326",
   "metadata": {},
   "outputs": [
    {
     "data": {
      "text/plain": [
       "Text(0.5, 1.0, 'Stock Price Prediction: Actual vs Predicted')"
      ]
     },
     "execution_count": 51,
     "metadata": {},
     "output_type": "execute_result"
    }
   ],
   "source": [
    "# Add labels and title\n",
    "plt.xlabel(\"Date\")\n",
    "plt.ylabel(\"Stock Price\")\n",
    "plt.title(\"Stock Price Prediction: Actual vs Predicted\")"
   ]
  },
  {
   "cell_type": "code",
   "execution_count": 52,
   "id": "7900b1e4-397b-4325-a349-143aaa389ad2",
   "metadata": {},
   "outputs": [
    {
     "data": {
      "text/plain": [
       "<matplotlib.legend.Legend at 0x2e3d184df40>"
      ]
     },
     "execution_count": 52,
     "metadata": {},
     "output_type": "execute_result"
    }
   ],
   "source": [
    "# Add legend\n",
    "plt.legend()"
   ]
  },
  {
   "cell_type": "code",
   "execution_count": 53,
   "id": "5924fe88-99fc-40e6-b3a7-0dc234b7b41e",
   "metadata": {},
   "outputs": [
    {
     "data": {
      "text/plain": [
       "(array([15706., 16071., 16436., 16801., 17167., 17532., 17897.]),\n",
       " [Text(15706.0, 0, '2013'),\n",
       "  Text(16071.0, 0, '2014'),\n",
       "  Text(16436.0, 0, '2015'),\n",
       "  Text(16801.0, 0, '2016'),\n",
       "  Text(17167.0, 0, '2017'),\n",
       "  Text(17532.0, 0, '2018'),\n",
       "  Text(17897.0, 0, '2019')])"
      ]
     },
     "execution_count": 53,
     "metadata": {},
     "output_type": "execute_result"
    }
   ],
   "source": [
    "# Rotate x-axis labels for better readability\n",
    "plt.xticks(rotation=45)\n"
   ]
  },
  {
   "cell_type": "code",
   "execution_count": 54,
   "id": "26464c23-c227-4437-93ca-3f0272723a5e",
   "metadata": {},
   "outputs": [
    {
     "data": {
      "text/plain": [
       "<Figure size 1400x600 with 0 Axes>"
      ]
     },
     "metadata": {},
     "output_type": "display_data"
    },
    {
     "data": {
      "text/plain": [
       "<Figure size 1400x600 with 0 Axes>"
      ]
     },
     "metadata": {},
     "output_type": "display_data"
    },
    {
     "data": {
      "text/plain": [
       "<Figure size 1400x600 with 0 Axes>"
      ]
     },
     "metadata": {},
     "output_type": "display_data"
    },
    {
     "data": {
      "image/png": "[encoded data removed]",
      "text/plain": [
       "<Figure size 1400x600 with 1 Axes>"
      ]
     },
     "metadata": {},
     "output_type": "display_data"
    }
   ],
   "source": [
    "# Display the plot\n",
    "plt.tight_layout()\n",
    "plt.show()"
   ]
  },
  {
   "cell_type": "code",
   "execution_count": 55,
   "id": "62198945-a782-4443-bae4-0287543e5944",
   "metadata": {},
   "outputs": [],
   "source": [
    "from sklearn.metrics import mean_squared_error, mean_absolute_error, r2_score\n",
    "import numpy as np"
   ]
  },
  {
   "cell_type": "code",
   "execution_count": 56,
   "id": "efde95c7-23e7-4945-bb59-b746f86c30c9",
   "metadata": {},
   "outputs": [],
   "source": [
    "# Actual values and predicted values from your validation set\n",
    "y_true = valid_data[\"Close\"].values\n",
    "y_pred = valid_data[\"Predictions\"].values"
   ]
  },
  {
   "cell_type": "code",
   "execution_count": 57,
   "id": "24d8b72a-b982-4c71-a2e8-717c5f1c77e3",
   "metadata": {},
   "outputs": [],
   "source": [
    "# Calculate metrics\n",
    "mse = mean_squared_error(y_true, y_pred)\n",
    "rmse = np.sqrt(mse)\n",
    "mae = mean_absolute_error(y_true, y_pred)\n",
    "r2 = r2_score(y_true, y_pred)\n"
   ]
  },
  {
   "cell_type": "code",
   "execution_count": 58,
   "id": "9c8bd3cb-70a6-43c1-b690-b86402cd9ecb",
   "metadata": {},
   "outputs": [
    {
     "name": "stdout",
     "output_type": "stream",
     "text": [
      " Model Evaluation Metrics:\n",
      "Mean Squared Error (MSE): 46.86\n",
      "Root Mean Squared Error (RMSE): 6.85\n",
      "Mean Absolute Error (MAE): 5.30\n",
      "R² Score: 0.9423\n"
     ]
    }
   ],
   "source": [
    "# Print metrics\n",
    "print(\" Model Evaluation Metrics:\")\n",
    "print(f\"Mean Squared Error (MSE): {mse:.2f}\")\n",
    "print(f\"Root Mean Squared Error (RMSE): {rmse:.2f}\")\n",
    "print(f\"Mean Absolute Error (MAE): {mae:.2f}\")\n",
    "print(f\"R² Score: {r2:.4f}\")"
   ]
  },
  {
   "cell_type": "code",
   "execution_count": 77,
   "id": "ee309bbb-40c1-4699-b3b3-d4686f952129",
   "metadata": {},
   "outputs": [
    {
     "name": "stderr",
     "output_type": "stream",
     "text": [
      "WARNING:absl:You are saving your model as an HDF5 file via `model.save()` or `keras.saving.save_model(model)`. This file format is considered legacy. We recommend using instead the native Keras format, e.g. `model.save('my_model.keras')` or `keras.saving.save_model(model, 'my_model.keras')`. \n"
     ]
    }
   ],
   "source": [
    "# Saving the entire model to a file\n",
    "model.save('lstm_stock_model.h5')\n"
   ]
  },
  {
   "cell_type": "code",
   "execution_count": null,
   "id": "aa04accb-fc6f-4227-98fe-07a61d47977d",
   "metadata": {},
   "outputs": [],
   "source": []
  }
 ],
 "metadata": {
  "kernelspec": {
   "display_name": "Python 3 (ipykernel)",
   "language": "python",
   "name": "python3"
  },
  "language_info": {
   "codemirror_mode": {
    "name": "ipython",
    "version": 3
   },
   "file_extension": ".py",
   "mimetype": "text/x-python",
   "name": "python",
   "nbconvert_exporter": "python",
   "pygments_lexer": "ipython3",
   "version": "3.12.7"
  }
 },
 "nbformat": 4,
 "nbformat_minor": 5
}
